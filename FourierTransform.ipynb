{
  "nbformat": 4,
  "nbformat_minor": 0,
  "metadata": {
    "colab": {
      "provenance": [],
      "authorship_tag": "ABX9TyNgVhSdylp0RigZiK0pRlES",
      "include_colab_link": true
    },
    "kernelspec": {
      "name": "python3",
      "display_name": "Python 3"
    },
    "language_info": {
      "name": "python"
    }
  },
  "cells": [
    {
      "cell_type": "markdown",
      "metadata": {
        "id": "view-in-github",
        "colab_type": "text"
      },
      "source": [
        "<a href=\"https://colab.research.google.com/github/RickeyEstes2/Fourier-Transform-/blob/main/FourierTransform.ipynb\" target=\"_parent\"><img src=\"https://colab.research.google.com/assets/colab-badge.svg\" alt=\"Open In Colab\"/></a>"
      ]
    },
    {
      "cell_type": "markdown",
      "source": [
        "# Fourier Transform"
      ],
      "metadata": {
        "id": "Xb-4GxqbubRb"
      }
    },
    {
      "cell_type": "code",
      "execution_count": null,
      "metadata": {
        "id": "J-0GAzdduY36"
      },
      "outputs": [],
      "source": [
        "import numpy as np\n",
        "import matplotlib.pyplot as plt"
      ]
    },
    {
      "cell_type": "markdown",
      "source": [
        "# Implementation of the Integral Trapezoid"
      ],
      "metadata": {
        "id": "ZTkjMgnYvnVJ"
      }
    },
    {
      "cell_type": "code",
      "source": [
        "def integralTrapezoidal(data):\n",
        "    a = 0\n",
        "    for i in range( len(data[0]) - 1):\n",
        "         a = a + ( data[1, i + 1]) / 2 * ( data[0, i + 1] )\n",
        "    return a"
      ],
      "metadata": {
        "id": "roOsCqlJuu3_"
      },
      "execution_count": null,
      "outputs": []
    }
  ]
}